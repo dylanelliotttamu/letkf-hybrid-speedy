{
 "cells": [
  {
   "cell_type": "code",
   "execution_count": null,
   "id": "19c140cc",
   "metadata": {},
   "outputs": [],
   "source": [
    "import numpy as np\n",
    "import numpy.ma as ma\n",
    "import matplotlib as mpl\n",
    "import matplotlib.pyplot as plt\n",
    "from matplotlib.ticker import NullFormatter\n",
    "from netCDF4 import Dataset\n",
    "import cartopy as cart\n",
    "import cartopy.crs as ccrs\n",
    "from cartopy.util import add_cyclic_point\n",
    "from cartopy.mpl.ticker import LongitudeFormatter, LatitudeFormatter\n",
    "from cartopy.mpl.geoaxes import GeoAxes\n",
    "import xarray as xr\n",
    "import glob\n",
    "from datetime import datetime, timedelta\n",
    "from dateutil.relativedelta import *\n",
    "from numba import jit\n",
    "import calendar\n",
    "from mpl_toolkits.axes_grid1 import AxesGrid\n",
    "import seaborn as sns\n",
    "\n",
    "# load file\n",
    "\n",
    "output_file = '/skydata2/dylanelliott/letkf-hybrid-speedy/DATA/dylan_nohup_files/nohup_6_13_23.txt'\n",
    "\n",
    "# with open(output_file, 'r') as file:\n",
    "#     content = file.read()\n",
    "#     lines = file.readlines()\n",
    "# print(content)\n",
    "\n",
    "nohup_file = np.genfromtxt(output_file)  \n",
    "nohup_file[1]"
   ]
  },
  {
   "cell_type": "code",
   "execution_count": null,
   "id": "4da83632",
   "metadata": {},
   "outputs": [],
   "source": []
  }
 ],
 "metadata": {
  "kernelspec": {
   "display_name": "Python 3 (ipykernel)",
   "language": "python",
   "name": "python3"
  },
  "language_info": {
   "codemirror_mode": {
    "name": "ipython",
    "version": 3
   },
   "file_extension": ".py",
   "mimetype": "text/x-python",
   "name": "python",
   "nbconvert_exporter": "python",
   "pygments_lexer": "ipython3",
   "version": "3.8.11"
  }
 },
 "nbformat": 4,
 "nbformat_minor": 5
}
