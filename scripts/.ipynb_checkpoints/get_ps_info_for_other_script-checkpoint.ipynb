{
 "cells": [
  {
   "cell_type": "code",
   "execution_count": 2,
   "id": "71ade302",
   "metadata": {},
   "outputs": [],
   "source": [
    "# IMPORT\n",
    "import numpy as np\n",
    "import numpy.ma as ma\n",
    "import matplotlib as mpl\n",
    "import matplotlib.pyplot as plt\n",
    "from matplotlib.ticker import NullFormatter\n",
    "from netCDF4 import Dataset\n",
    "import cartopy.crs as ccrs\n",
    "from cartopy.util import add_cyclic_point\n",
    "import xarray as xr\n",
    "import glob\n",
    "from datetime import datetime, timedelta\n",
    "from numba import jit"
   ]
  },
  {
   "cell_type": "code",
   "execution_count": 4,
   "id": "e64e6578",
   "metadata": {},
   "outputs": [
    {
     "ename": "NameError",
     "evalue": "name 'variable_speedy' is not defined",
     "output_type": "error",
     "traceback": [
      "\u001b[0;31m---------------------------------------------------------------------------\u001b[0m",
      "\u001b[0;31mNameError\u001b[0m                                 Traceback (most recent call last)",
      "Cell \u001b[0;32mIn[4], line 33\u001b[0m\n\u001b[1;32m     30\u001b[0m     level_in_era \u001b[38;5;241m=\u001b[39m \u001b[38;5;241m2\u001b[39m\n\u001b[1;32m     31\u001b[0m level_era \u001b[38;5;241m=\u001b[39m level_in_era\n\u001b[0;32m---> 33\u001b[0m var_da \u001b[38;5;241m=\u001b[39m \u001b[43mvariable_speedy\u001b[49m\n\u001b[1;32m     34\u001b[0m \u001b[38;5;28;01mif\u001b[39;00m variable_speedy \u001b[38;5;241m==\u001b[39m \u001b[38;5;124m'\u001b[39m\u001b[38;5;124mq\u001b[39m\u001b[38;5;124m'\u001b[39m:\n\u001b[1;32m     35\u001b[0m     variable_era \u001b[38;5;241m=\u001b[39m \u001b[38;5;124m'\u001b[39m\u001b[38;5;124mSpecific_Humidity\u001b[39m\u001b[38;5;124m'\u001b[39m\n",
      "\u001b[0;31mNameError\u001b[0m: name 'variable_speedy' is not defined"
     ]
    }
   ],
   "source": [
    "### ERA5  \n",
    "analysis_file = '/skydata2/dylanelliott/letkf-hybrid-speedy/DATA/uniform_letkf_anal/ERA5_1_3_6hr_timestep_1_24_24_20110101_20120101/mean_output/out.nc'\n",
    "\n",
    "\n",
    "spread_file_ERA5 = '/skydata2/dylanelliott/letkf-hybrid-speedy/DATA/uniform_letkf_anal/ERA5_1_3_6hr_timestep_1_24_24_20110101_20120101/sprd_output/out.nc'\n",
    "\n",
    "\n",
    "spread_file_speedy = '/skydata2/dylanelliott/letkf-hybrid-speedy/DATA/uniform_letkf_anal/speedy_cov_1_3_40MEM_individual_ens_member_20110101_20110601/sprd_output/out.nc'\n",
    "#     spread_file_speedy = '/skydata2/dylanelliott/letkf-hybrid-speedy/DATA/uniform_letkf_anal/40member_speedy_covar1_3_20110101_20120901/sprd.nc' \n",
    "\n",
    "# SPREAD FILES\n",
    "ds_spread_ERA5 = xr.open_dataset(spread_file_ERA5)\n",
    "ds_spread_speedy = xr.open_dataset(spread_file_speedy)\n",
    "\n",
    "\n",
    "start_year = 2011\n",
    "end_year = 2011\n",
    "\n",
    "startdate = datetime(2011,1,1,0)\n",
    "enddate = datetime(2011,12,31,18)\n",
    "time_slice = slice(startdate,enddate)\n",
    "\n",
    "#level = 0.95 #0.2#0.95#0.51\n",
    "#level_era = 7 #2#7 #4\n",
    "level_in_speedy = .95 \n",
    "level = level_in_speedy\n",
    "if level_in_speedy == .95:\n",
    "    level_in_era = 7\n",
    "if level_in_speedy == .2:\n",
    "    level_in_era = 2\n",
    "level_era = level_in_era\n",
    "\n",
    "var_da = variable_speedy\n",
    "if variable_speedy == 'q':\n",
    "    variable_era = 'Specific_Humidity'\n",
    "if variable_speedy == 't':\n",
    "    variable_era = 'Temperature'\n",
    "if variable_speedy == 'v':\n",
    "    variable_era = 'V-wind'\n",
    "if variable_speedy == 'u':\n",
    "    variable_era = 'U-wind'\n",
    "#     var_era = variable_era\n",
    "print(variable_era)\n",
    "var_era = variable_era\n",
    "\n",
    "#var_era = 'V-wind'#'Specific_Humidity'#'Temperature' #'V-wind'\n",
    "#var_da =  'v'#'q'#'t'#'v'\n",
    "print('you selected for variable =',var_era)\n",
    "print('at level =',level)\n",
    "\n",
    "\n",
    "\n",
    "# create empty list to store indiviudal datasets\n",
    "era5sets = []\n",
    "print('made it to the for loop...')\n",
    "\n",
    "# LOAD DATA HERE \n",
    "print('LOADING DATA...')\n",
    "# FOR ERA5\n",
    "timestep_6hrly = 6\n",
    "# loop over the range of years and open each ds\n",
    "for year in range(start_year, end_year + 1):\n",
    "    nature_file = f'/skydata2/troyarcomano/ERA_5/{year}/era_5_y{year}_regridded_mpi_fixed_var.nc'\n",
    "    # only load var_era selected and only load level_era selected from above\n",
    "    ds_nature = xr.open_dataset(nature_file)[var_era].sel(Sigma_Level=level_era)\n",
    "    # Read in every 6th timestep\n",
    "    ds_nature = ds_nature.isel(Timestep=slice(None, None, timestep_6hrly))\n",
    "    era5sets.append(ds_nature)\n",
    "\n",
    "print('Now its concatinating them all together...')\n",
    "\n",
    "ds_nature = xr.concat(era5sets, dim = 'Timestep')\n",
    "ds_nature = ds_nature.sortby('Timestep')\n",
    "print('Done concat and sortby Timestep...')\n",
    "temp_500_nature = ds_nature.values\n",
    "\n",
    "ds_analysis_mean = xr.open_dataset(analysis_file)[var_da].sel(lev=level,time=time_slice)\n",
    "ds_analysis_mean_speedy = xr.open_dataset(analysis_file_speedy)[var_da].sel(lev=level,time=time_slice)\n",
    "\n",
    "temp_500_analysis = ds_analysis_mean\n",
    "# temp_500_analysis = ds_analysis_mean[var_da].sel(lev=level).values\n",
    "temp_500_analysis_speedy = ds_analysis_mean_speedy\n",
    "# temp_500_analysis_speedy = ds_analysis_mean_speedy[var_da].sel(lev=level,time=time_slice).values\n",
    "\n",
    "\n",
    "temp_500_spread_era5 = ds_spread_ERA5[var_da].sel(lev=level).values\n",
    "temp_500_spread_speedy = ds_spread_speedy[var_da].sel(lev=level).values\n",
    "\n"
   ]
  },
  {
   "cell_type": "code",
   "execution_count": 5,
   "id": "cb4379f7",
   "metadata": {},
   "outputs": [
    {
     "data": {
      "text/plain": [
       "'/skydata2/dylanelliott/letkf-hybrid-speedy/DATA/uniform_letkf_anal/ERA5_1_3_6hr_timestep_1_24_24_20110101_20120101/mean_output/out.nc'"
      ]
     },
     "execution_count": 5,
     "metadata": {},
     "output_type": "execute_result"
    }
   ],
   "source": []
  },
  {
   "cell_type": "code",
   "execution_count": null,
   "id": "0066bda9",
   "metadata": {},
   "outputs": [],
   "source": []
  },
  {
   "cell_type": "code",
   "execution_count": null,
   "id": "8e6f9e35",
   "metadata": {},
   "outputs": [],
   "source": []
  }
 ],
 "metadata": {
  "kernelspec": {
   "display_name": "Python 3 (ipykernel)",
   "language": "python",
   "name": "python3"
  },
  "language_info": {
   "codemirror_mode": {
    "name": "ipython",
    "version": 3
   },
   "file_extension": ".py",
   "mimetype": "text/x-python",
   "name": "python",
   "nbconvert_exporter": "python",
   "pygments_lexer": "ipython3",
   "version": "3.8.11"
  }
 },
 "nbformat": 4,
 "nbformat_minor": 5
}
