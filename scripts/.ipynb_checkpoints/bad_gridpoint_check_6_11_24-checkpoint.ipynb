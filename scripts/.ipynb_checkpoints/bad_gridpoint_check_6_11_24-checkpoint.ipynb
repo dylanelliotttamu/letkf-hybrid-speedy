{
 "cells": [
  {
   "cell_type": "code",
   "execution_count": 1,
   "id": "13e6e8cf",
   "metadata": {},
   "outputs": [
    {
     "name": "stderr",
     "output_type": "stream",
     "text": [
      "/tmp/ipykernel_22900/382945006.py:1: DeprecationWarning: Importing display from IPython.core.display is deprecated since IPython 7.14, please import from IPython display\n",
      "  from IPython.core.display import display, HTML\n"
     ]
    },
    {
     "data": {
      "text/html": [
       "<style>.container { width:100% !important; }</style>"
      ],
      "text/plain": [
       "<IPython.core.display.HTML object>"
      ]
     },
     "metadata": {},
     "output_type": "display_data"
    }
   ],
   "source": [
    "from IPython.core.display import display, HTML\n",
    "display(HTML(\"<style>.container { width:100% !important; }</style>\"))\n",
    "# IMPORT\n",
    "import numpy as np\n",
    "import numpy.ma as ma\n",
    "import matplotlib as mpl\n",
    "import matplotlib.pyplot as plt\n",
    "from matplotlib.ticker import NullFormatter\n",
    "from netCDF4 import Dataset\n",
    "import cartopy.crs as ccrs\n",
    "from cartopy.util import add_cyclic_point\n",
    "import xarray as xr\n",
    "import glob\n",
    "from datetime import datetime, timedelta\n",
    "from numba import jit\n",
    "import seaborn as sns\n",
    "\n"
   ]
  },
  {
   "cell_type": "code",
   "execution_count": 15,
   "id": "a20865ca",
   "metadata": {},
   "outputs": [],
   "source": [
    "hybrid_1_9_1_9_1_9_file = '/skydata2/dylanelliott/letkf-hybrid-speedy/DATA/uniform_letkf_anal/hybrid_1_9_1_9_1_9_2nd_inter_20110101_20110924/mean_output/out.nc'\n",
    "\n",
    "hybrid_1_9_1_9_file ='/skydata2/dylanelliott/letkf-hybrid-speedy/DATA/uniform_letkf_anal/hybrid_1_9_1_9_mem_1_fixed_20110101_20120115/out.nc'\n",
    "\n",
    "ERA5_reanal_file = '/skydata2/troyarcomano/ERA_5/2011/era_5_y2011_regridded_mpi_fixed_var.nc'\n",
    "\n",
    "speedy_1_9_file = '/skydata2/dylanelliott/letkf-hybrid-speedy/DATA/uniform_letkf_anal/speedy_1_9_20110101_20120101/mean_output/out.nc'\n",
    "\n",
    "startyear = 2011\n",
    "endyear = 2011\n",
    "\n",
    "startdate = datetime(startyear,1,1,0)\n",
    "enddate = datetime(endyear,2,1,0)\n",
    "\n",
    "time_slice = slice(startdate,enddate)\n",
    "\n",
    "level_speedy_data = .95\n",
    "level_era_data = 7\n",
    "\n",
    "\n",
    "hybrid_1_9_1_9_1_9_ds = xr.open_dataset(hybrid_1_9_1_9_1_9_file).sel(time=time_slice, lev= level_speedy_data)\n",
    "\n",
    "# hybrid_1_9_1_9_1_9_ds\n",
    "\n",
    "num_timesteps = int((enddate - startdate).days * 24 / 6) + 1 # 6-hour timestep\n",
    "ERA5_reanal_ds = xr.open_dataset(ERA5_reanal_file).sel(Sigma_Level=level_era_data)\n",
    "# Read in every 6th timestep\n",
    "timestep_6hrly = 6\n",
    "ERA5_reanal_ds = ERA5_reanal_ds.isel(Timestep=slice(None, None, timestep_6hrly))\n",
    "ERA5_reanal_ds = ERA5_reanal_ds.sortby('Timestep')\n",
    "ERA5_reanal_ds = ERA5_reanal_ds.isel(Timestep = slice(0,num_timesteps))\n",
    "\n"
   ]
  },
  {
   "cell_type": "code",
   "execution_count": null,
   "id": "57d5d646",
   "metadata": {},
   "outputs": [],
   "source": []
  }
 ],
 "metadata": {
  "kernelspec": {
   "display_name": "Python 3 (ipykernel)",
   "language": "python",
   "name": "python3"
  },
  "language_info": {
   "codemirror_mode": {
    "name": "ipython",
    "version": 3
   },
   "file_extension": ".py",
   "mimetype": "text/x-python",
   "name": "python",
   "nbconvert_exporter": "python",
   "pygments_lexer": "ipython3",
   "version": "3.8.11"
  }
 },
 "nbformat": 4,
 "nbformat_minor": 5
}
