{
 "cells": [
  {
   "cell_type": "code",
   "execution_count": 1,
   "id": "f0618a52",
   "metadata": {},
   "outputs": [
    {
     "name": "stderr",
     "output_type": "stream",
     "text": [
      "/tmp/ipykernel_110010/3777615979.py:1: DeprecationWarning: Importing display from IPython.core.display is deprecated since IPython 7.14, please import from IPython display\n",
      "  from IPython.core.display import display, HTML\n"
     ]
    },
    {
     "data": {
      "text/html": [
       "<style>.container { width:100% !important; }</style>"
      ],
      "text/plain": [
       "<IPython.core.display.HTML object>"
      ]
     },
     "metadata": {},
     "output_type": "display_data"
    }
   ],
   "source": [
    "from IPython.core.display import display, HTML\n",
    "display(HTML(\"<style>.container { width:100% !important; }</style>\"))"
   ]
  },
  {
   "cell_type": "code",
   "execution_count": 2,
   "id": "fca14fab",
   "metadata": {},
   "outputs": [],
   "source": [
    "# IMPORT\n",
    "import numpy as np\n",
    "import numpy.ma as ma\n",
    "import matplotlib as mpl\n",
    "import matplotlib.pyplot as plt\n",
    "from matplotlib.ticker import NullFormatter\n",
    "from netCDF4 import Dataset\n",
    "import cartopy.crs as ccrs\n",
    "from cartopy.util import add_cyclic_point\n",
    "import xarray as xr\n",
    "import glob\n",
    "from datetime import datetime, timedelta\n",
    "from numba import jit\n",
    "import seaborn as sns"
   ]
  },
  {
   "cell_type": "code",
   "execution_count": null,
   "id": "aa20fd85",
   "metadata": {},
   "outputs": [],
   "source": [
    "analysis_file = '/skydata2/dylanelliott/letkf-hybrid-speedy/DATA/uniform_letkf_anal/ERA5_1_3_6hr_timestep_1_24_24_20110101_20120101/mean_output/out.nc'\n",
    "gues_file = '/skydata2/dylanelliott/letkf-hybrid-speedy/DATA/uniform_letkf_anal/ERA5_1_3_6hr_timestep_1_24_24_20110101_20120101/mean_output_gues/out.nc'\n",
    "\n",
    "\n",
    "analysis_file_speedy = '/skydata2/dylanelliott/letkf-hybrid-speedy/DATA/uniform_letkf_anal/speedy_cov_1_3_40MEM_individual_ens_member_20110101_20110601/mean_output/out.nc'\n",
    "gues_file_speedy = '/skydata2/dylanelliott/letkf-hybrid-speedy/DATA/uniform_letkf_anal/speedy_cov_1_3_40MEM_individual_ens_member_20110101_20110601/mean_output_gues/out.nc'\n",
    "\n",
    "for year in range(start_year, end_year + 1):\n",
    "    nature_file = f'/skydata2/troyarcomano/ERA_5/{year}/era_5_y{year}_regridded_mpi_fixed_var.nc'\n",
    "    # only load var_era selected and only load level_era selected from above\n",
    "    ds_nature = xr.open_dataset(nature_file)[var_era].sel(Sigma_Level=level_era)\n",
    "    # Read in every 6th timestep\n",
    "    ds_nature = ds_nature.isel(Timestep=slice(None, None, timestep_6hrly))\n",
    "    era5sets.append(ds_nature)\n",
    "    \n",
    "\n",
    "start_year = 2011\n",
    "end_year = 2011\n",
    "\n",
    "startdate = datetime(2011,1,1,0)\n",
    "enddate = datetime(2011,2,1,0)\n",
    "time_slice = slice(startdate,enddate)"
   ]
  }
 ],
 "metadata": {
  "kernelspec": {
   "display_name": "Python 3 (ipykernel)",
   "language": "python",
   "name": "python3"
  },
  "language_info": {
   "codemirror_mode": {
    "name": "ipython",
    "version": 3
   },
   "file_extension": ".py",
   "mimetype": "text/x-python",
   "name": "python",
   "nbconvert_exporter": "python",
   "pygments_lexer": "ipython3",
   "version": "3.8.11"
  }
 },
 "nbformat": 4,
 "nbformat_minor": 5
}
